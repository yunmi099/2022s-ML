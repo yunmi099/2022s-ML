{
  "nbformat": 4,
  "nbformat_minor": 0,
  "metadata": {
    "colab": {
      "name": "HW0.ipynb의 사본",
      "provenance": [],
      "collapsed_sections": [],
      "include_colab_link": true
    },
    "kernelspec": {
      "name": "python3",
      "display_name": "Python 3"
    },
    "language_info": {
      "name": "python"
    }
  },
  "cells": [
    {
      "cell_type": "markdown",
      "metadata": {
        "id": "view-in-github",
        "colab_type": "text"
      },
      "source": [
        "<a href=\"https://colab.research.google.com/github/yunmi099/HW0/blob/main/HW0_ipynb%EC%9D%98_%EC%82%AC%EB%B3%B8.ipynb\" target=\"_parent\"><img src=\"https://colab.research.google.com/assets/colab-badge.svg\" alt=\"Open In Colab\"/></a>"
      ]
    },
    {
      "cell_type": "markdown",
      "source": [
        "# <strong>Hello Colab</strong>"
      ],
      "metadata": {
        "id": "LvO7Ts6niDhn"
      }
    },
    {
      "cell_type": "markdown",
      "source": [
        "\n",
        "\n",
        "\n",
        "<h2><strong>Colab이란?</strong></h2>\n",
        "\n",
        "Colaboratory&#40;줄여서 'Colab'이라고 함&#41;을 통해 브라우저 내에서 Python 스크립트를 작성하고 실행할 수 있습니다. Colab의 장점은 다음과 같습니다. \n",
        "\n",
        "- 구성이 필요하지 않음\n",
        "- GPU 무료 액세스\n",
        "- 간편한 공유\n"
      ],
      "metadata": {
        "id": "Gy2ISVohig1V"
      }
    },
    {
      "cell_type": "markdown",
      "source": [
        "## <strong>시작하기</strong>\n",
        "\n",
        "지금 읽고 계신 문서는 정적 웹페이지가 아니라 코드를 작성하고 실행할 수 있는 대화형 환경인 <strong>Colab 메모장</strong>입니다.\n",
        "\n",
        "예를 들어 다음은 값을 계산하여 변수로 저장하고 결과를 출력하는 간단한 Python 스크립트가 포함된 <strong>코드 셀</strong>입니다."
      ],
      "metadata": {
        "id": "pc2TLWGtjMJf"
      }
    },
    {
      "cell_type": "code",
      "execution_count": null,
      "metadata": {
        "colab": {
          "base_uri": "https://localhost:8080/",
          "height": 34
        },
        "id": "gJr_9dXGpJ05",
        "outputId": "9f556d03-ec67-4950-a485-cfdba9ddd14d"
      },
      "outputs": [
        {
          "data": {
            "text/plain": [
              "86400"
            ]
          },
          "execution_count": 0,
          "metadata": {
            "tags": []
          },
          "output_type": "execute_result"
        }
      ],
      "source": [
        "seconds_in_a_day = 24 * 60 * 60\n",
        "seconds_in_a_day"
      ]
    },
    {
      "cell_type": "markdown",
      "metadata": {
        "id": "2fhs6GZ4qFMx"
      },
      "source": [
        "위 셀의 코드를 실행하려면 셀을 클릭하여 선택한 후 코드 왼쪽의 실행 버튼을 누르거나 단축키 'Command/Ctrl+Enter'를 사용하세요. 셀을 클릭하면 코드 수정을 바로 시작할 수 있습니다.\n",
        "\n",
        "특정 셀에서 정의한 변수를 나중에 다른 셀에서 사용할 수 있습니다."
      ]
    },
    {
      "cell_type": "code",
      "source": [
        "seconds_in_a_week = 7 * seconds_in_a_day\n",
        "seconds_in_a_week"
      ],
      "metadata": {
        "id": "1eaVeRvojXDI"
      },
      "execution_count": null,
      "outputs": []
    },
    {
      "cell_type": "markdown",
      "metadata": {
        "id": "lSrWNr3MuFUS"
      },
      "source": [
        "Colab 메모장을 사용하면 <strong>실행 코드</strong>와 <strong>서식 있는 텍스트</strong>를 <strong>이미지</strong>, <strong>HTML</strong>, <strong>LaTeX</strong> 등과 함께 하나의 문서로 통합할 수 있습니다. Colab 메모장을 만들면 Google Drive 계정에 저장됩니다. Colab 메모장을 간편하게 공유하여 동료나 친구들이 댓글을 달거나 수정하도록 할 수 있습니다. 자세히 알아보려면 <a href=\"/notebooks/basic_features_overview.ipynb\">Colab 개요</a>를 참조하세요. 새 Colab 메모장을 만들려면 위의 파일 메뉴를 사용하거나 다음 링크로 이동하세요. <a href=\"http://colab.research.google.com#create=true\">새 Colab 메모장 만들기</a>\n",
        "\n",
        "Colab 메모장은 Colab에서 호스팅하는 Jupyter 메모장입니다. Jupyter 프로젝트에 관해 자세히 알아보려면 <a href=\"https://www.jupyter.org\">jupyter.org</a>를 참조하세요."
      ]
    },
    {
      "cell_type": "markdown",
      "source": [
        "\n",
        "\n",
        "---\n",
        "\n"
      ],
      "metadata": {
        "id": "Ut2Lj2oWKMmR"
      }
    },
    {
      "cell_type": "markdown",
      "source": [
        "# <strong> \u001f셀 </strong>\n",
        "하나의 노트북은 셀들로 이루어져 있습니다. 셀에는 두 가지 종류가 있습니다.\n",
        "\n",
        "* 텍스트\n",
        "* 실행 가능한 코드\n",
        "\n",
        "셀을 선택하려면 해당 셀 위에서 클릭하면 됩니다."
      ],
      "metadata": {
        "id": "SuFKaDNlkq3m"
      }
    },
    {
      "cell_type": "markdown",
      "source": [
        "## <strong>코드 셀</strong>\n",
        "아래에 있는 셀이 **코드 셀** 입니다. 오른쪽 상단 바에서 **연결**을 눌러 노트북을 서버와 연결한 후 셀을 실행시킬 수 있습니다. 셀을 실행하는 방법은 다음과 같습니다.\n",
        "* 셀의 왼쪽 상단에 있는 **실행 아이콘**을 클립니다.\n",
        "* **Cmd/Ctrl+Enter** 를 누르면 해당 셀을 실행할 수 있습니다.\n",
        "* **Shift+Enter** 를 누르면 해당 셀을 실행한 후 커서가 다음 셀로 갑니다. 다음 셀이 없으면 새로운 셀이 추가됩니다.\n",
        "* **Alt+Enter** 를 누르면 해당 셀을 실행한 후 새로운 셀이 아래에 추가됩니다.\n",
        "\n",
        "**Runtime** 메뉴에 특정 셀들을 실행하거나 모든 셀을 실행하는 추가적인 옵션이 있습니다."
      ],
      "metadata": {
        "id": "8BeGwlFglSRv"
      }
    },
    {
      "cell_type": "code",
      "execution_count": 4,
      "metadata": {
        "cellView": "both",
        "colab": {
          "base_uri": "https://localhost:8080/"
        },
        "id": "WUtu4316QSHL",
        "outputId": "d8088ada-4885-47ed-cf27-36fefa74ceb7"
      },
      "outputs": [
        {
          "output_type": "execute_result",
          "data": {
            "text/plain": [
              "10"
            ]
          },
          "metadata": {},
          "execution_count": 4
        }
      ],
      "source": [
        "a = 10\n",
        "a"
      ]
    },
    {
      "cell_type": "markdown",
      "source": [
        "## <strong>텍스트 셀</strong>\n",
        "이것은 **텍스트 셀** 입니다. **더블 클릭** 하여 이 셀을 수정할 수 있습니다.  \n",
        "* 텍스트 셀은 마크다운 문법을 사용하여 작성합니다. \n",
        "* [LaTex](http://www.latex-project.org/) 를 사용하여 텍스트 셀에 수식을 추가할 수 있습니다.\n",
        "  * **\\$** 을 사용합니다.\n",
        "  * 예) $\\sqrt{3x-1}+(1+x)^2$ 는 `$\\sqrt{3x-1}+(1+x)^2$` 로 작성합니다.  "
      ],
      "metadata": {
        "id": "aNPSb61gmm1E"
      }
    },
    {
      "cell_type": "markdown",
      "source": [
        "## <strong> 셀 추가와 이동 </strong>\n",
        "셀 하단에 커서를 놓으면 나타나는 **+코드**와 **+텍스트** 버튼을 클릭하여 새로운 셀을 추가할 수 있습니다. 이 버튼들은 툴바의 왼쪽 상단에도 있습니다.\n",
        "\n",
        "셀의 오른쪽 상단에 있는 화살표를 클릭하여 셀의 위치를 위, 아래로 이동시킬 수 있습니다.\n",
        "\n"
      ],
      "metadata": {
        "id": "7phKMoUcokmL"
      }
    },
    {
      "cell_type": "markdown",
      "source": [
        "\n",
        "\n",
        "---\n",
        "\n"
      ],
      "metadata": {
        "id": "RSpEuNWsKQK9"
      }
    },
    {
      "cell_type": "markdown",
      "source": [
        "# <strong>파이썬으로 작업하기</strong>\n",
        "Colaboratory는 [Jupyter Notebook](https://jupyter.org/) 위에서 동작합니다. "
      ],
      "metadata": {
        "id": "gk3-e7mgpliF"
      }
    },
    {
      "cell_type": "markdown",
      "source": [
        "**런타임 -> 실행 중단** (*단축키: Cmd/Ctrl-M I*) 로 셀의 실행을 중단할 수 있습니다."
      ],
      "metadata": {
        "id": "AnEA572Tp5on"
      }
    },
    {
      "cell_type": "markdown",
      "source": [
        "## <strong>시스템 명령어</strong>\n",
        "Jupyter에서 ls와 같은 명령어를 사용할 수 있습니다. "
      ],
      "metadata": {
        "id": "osir2VcuqXS4"
      }
    },
    {
      "cell_type": "code",
      "source": [
        "!ls /bin"
      ],
      "metadata": {
        "colab": {
          "base_uri": "https://localhost:8080/"
        },
        "id": "mxRlVyNpp5N_",
        "outputId": "f0175f45-dc0c-453a-c0c2-b2344dd8df2b"
      },
      "execution_count": 5,
      "outputs": [
        {
          "output_type": "stream",
          "name": "stdout",
          "text": [
            "bash\t       hostname       su\n",
            "bunzip2        journalctl     sync\n",
            "bzcat\t       kill\t      systemctl\n",
            "bzcmp\t       kmod\t      systemd\n",
            "bzdiff\t       less\t      systemd-ask-password\n",
            "bzegrep        lessecho       systemd-escape\n",
            "bzexe\t       lessfile       systemd-hwdb\n",
            "bzfgrep        lesskey\t      systemd-inhibit\n",
            "bzgrep\t       lesspipe       systemd-machine-id-setup\n",
            "bzip2\t       ln\t      systemd-notify\n",
            "bzip2recover   login\t      systemd-sysusers\n",
            "bzless\t       loginctl       systemd-tmpfiles\n",
            "bzmore\t       ls\t      systemd-tty-ask-password-agent\n",
            "cat\t       lsblk\t      tar\n",
            "chgrp\t       lsmod\t      tempfile\n",
            "chmod\t       mkdir\t      touch\n",
            "chown\t       mknod\t      true\n",
            "cp\t       mktemp\t      udevadm\n",
            "dash\t       more\t      ulockmgr_server\n",
            "date\t       mount\t      umount\n",
            "dd\t       mountpoint     uname\n",
            "df\t       mv\t      uncompress\n",
            "dir\t       networkctl     vdir\n",
            "dmesg\t       nisdomainname  wdctl\n",
            "dnsdomainname  pidof\t      which\n",
            "domainname     ps\t      ypdomainname\n",
            "echo\t       pwd\t      zcat\n",
            "egrep\t       rbash\t      zcmp\n",
            "false\t       readlink       zdiff\n",
            "fgrep\t       rm\t      zegrep\n",
            "findmnt        rmdir\t      zfgrep\n",
            "fuser\t       run-parts      zforce\n",
            "fusermount     sed\t      zgrep\n",
            "grep\t       sh\t      zless\n",
            "gunzip\t       sh.distrib     zmore\n",
            "gzexe\t       sleep\t      znew\n",
            "gzip\t       stty\n"
          ]
        }
      ]
    },
    {
      "cell_type": "markdown",
      "source": [
        "위 코드의 출력을 지우는 방법은 아래와 같습니다.\n",
        "* 셀의 출력창 왼쪽 상단 버튼을 클릭\n",
        "* 출력창에서 우클릭 -> 출력 지우기"
      ],
      "metadata": {
        "id": "p9gGtLjvq2Py"
      }
    },
    {
      "cell_type": "markdown",
      "source": [
        "## <strong>자동 완성과 코드 탐색</strong>\n",
        "코랩에서는 파이썬 객체(object)의 속성(attribute)을 탐색하는 자동 완성 기능을 제공합니다.  \n",
        "[`numpy`](http://www.numpy.org) 모듈을 import하는 코드를 실행해보세요."
      ],
      "metadata": {
        "id": "AbCooeBbru1p"
      }
    },
    {
      "cell_type": "code",
      "source": [
        "import numpy as np"
      ],
      "metadata": {
        "id": "-vrEEQPRqyUP"
      },
      "execution_count": 6,
      "outputs": []
    },
    {
      "cell_type": "markdown",
      "source": [
        "`np` 다음에 입력 커서를 두고 **마침표**(`.`)를 입력하면 `np` 모듈에서 사용 가능한 리스트가 보나타납니다. 완성 기능 창은 **Ctrl+Space** 를 눌러 다시 열 수 있습니다."
      ],
      "metadata": {
        "id": "ZipbvQ-nsW-g"
      }
    },
    {
      "cell_type": "code",
      "source": [
        "np"
      ],
      "metadata": {
        "id": "d-dih7kRtPya",
        "colab": {
          "base_uri": "https://localhost:8080/"
        },
        "outputId": "5c7317b5-e479-4155-b525-9a88aa0c499e"
      },
      "execution_count": 7,
      "outputs": [
        {
          "output_type": "execute_result",
          "data": {
            "text/plain": [
              "<module 'numpy' from '/usr/local/lib/python3.7/dist-packages/numpy/__init__.py'>"
            ]
          },
          "metadata": {},
          "execution_count": 7
        }
      ]
    },
    {
      "cell_type": "markdown",
      "source": [
        "모듈에 속한 함수나 클래스에서 `(`를 입력하면 해당 함수나 클래스의 documentation이 나타납니다."
      ],
      "metadata": {
        "id": "ri_9A8bXtb8D"
      }
    },
    {
      "cell_type": "code",
      "source": [
        "np.ndarray"
      ],
      "metadata": {
        "id": "j0JRidaFtuWK",
        "colab": {
          "base_uri": "https://localhost:8080/"
        },
        "outputId": "cc305894-ebb7-460a-d93c-d19501a13db6"
      },
      "execution_count": 8,
      "outputs": [
        {
          "output_type": "execute_result",
          "data": {
            "text/plain": [
              "numpy.ndarray"
            ]
          },
          "metadata": {},
          "execution_count": 8
        }
      ]
    },
    {
      "cell_type": "markdown",
      "source": [
        "Documentation 창은 **Ctrl+Shift+Space** 를 사용해서 열 수 있습니다. 또한 메소드 이름 위에 마우스 커서를 두어도 Documentation을 볼 수 있습니다."
      ],
      "metadata": {
        "id": "E2D9ASW-txFN"
      }
    },
    {
      "cell_type": "markdown",
      "source": [
        "## <strong>Exception 형식</strong> \n",
        "Colab 출력창에서 Exception을 확인할 수 있습니다."
      ],
      "metadata": {
        "id": "2Jvy13Z5uP4S"
      }
    },
    {
      "cell_type": "code",
      "source": [
        "x = 1\n",
        "y = 4\n",
        "z = y/(1-x)"
      ],
      "metadata": {
        "colab": {
          "base_uri": "https://localhost:8080/",
          "height": 209
        },
        "id": "UnAIiXvnudFE",
        "outputId": "d476eda3-c3f6-47df-c2c9-6e289876b461"
      },
      "execution_count": 9,
      "outputs": [
        {
          "output_type": "error",
          "ename": "ZeroDivisionError",
          "evalue": "ignored",
          "traceback": [
            "\u001b[0;31m---------------------------------------------------------------------------\u001b[0m",
            "\u001b[0;31mZeroDivisionError\u001b[0m                         Traceback (most recent call last)",
            "\u001b[0;32m<ipython-input-9-d93e730d8440>\u001b[0m in \u001b[0;36m<module>\u001b[0;34m()\u001b[0m\n\u001b[1;32m      1\u001b[0m \u001b[0mx\u001b[0m \u001b[0;34m=\u001b[0m \u001b[0;36m1\u001b[0m\u001b[0;34m\u001b[0m\u001b[0;34m\u001b[0m\u001b[0m\n\u001b[1;32m      2\u001b[0m \u001b[0my\u001b[0m \u001b[0;34m=\u001b[0m \u001b[0;36m4\u001b[0m\u001b[0;34m\u001b[0m\u001b[0;34m\u001b[0m\u001b[0m\n\u001b[0;32m----> 3\u001b[0;31m \u001b[0mz\u001b[0m \u001b[0;34m=\u001b[0m \u001b[0my\u001b[0m\u001b[0;34m/\u001b[0m\u001b[0;34m(\u001b[0m\u001b[0;36m1\u001b[0m\u001b[0;34m-\u001b[0m\u001b[0mx\u001b[0m\u001b[0;34m)\u001b[0m\u001b[0;34m\u001b[0m\u001b[0;34m\u001b[0m\u001b[0m\n\u001b[0m",
            "\u001b[0;31mZeroDivisionError\u001b[0m: division by zero"
          ]
        }
      ]
    },
    {
      "cell_type": "markdown",
      "source": [
        "\n",
        "\n",
        "---\n",
        "\n"
      ],
      "metadata": {
        "id": "9qLeSiCPKVWO"
      }
    },
    {
      "cell_type": "markdown",
      "source": [
        "# <strong> 마크다운 </strong>\n",
        "코랩에서 텍스트 셀은 Markdown이라는 markup 언어를 사용합니다.\n",
        "\n",
        "마크다운의 소스코드는 텍스트 셀을 더블클릭하면 볼 수 있습니다."
      ],
      "metadata": {
        "id": "jMg09DBjuijp"
      }
    },
    {
      "cell_type": "markdown",
      "source": [
        "Markdown | Preview\n",
        "--- | ---\n",
        "`**bold text**` | **bold text**\n",
        "`*italicized text*` or `_italicized text_` | *italicized text*\n",
        "`` `Monospace` `` | `Monospace`\n",
        "`~~strikethrough~~` | ~~strikethrough~~\n",
        "`[A link](https://www.google.com)` | [A link](https://www.google.com)\n",
        "`![An image](https://www.google.com/images/rss.png)` | ![An image](https://www.google.com/images/rss.png)\n",
        "\n",
        "\n",
        "---\n",
        "Headings은 제목으로 랜더링됩니다 (html의 h tag에 해당).\n",
        "\n",
        "```markdown\n",
        "# Section 1\n",
        "# Section 2\n",
        "## Sub-section under Section 2\n",
        "### Sub-section under the sub-section under Section 2\n",
        "# Section 3\n",
        "```\n",
        "\n",
        "# Section 1\n",
        "# Section 2\n",
        "## Sub-section under Section 2\n",
        "### Sub-section under the sub-section under Section 2\n",
        "# Section 3\n",
        "\n",
        "\n",
        "---\n",
        "\n",
        "```markdown\n",
        ">One level of indentation\n",
        "```\n",
        "\n",
        ">One level of indentation\n",
        "\n",
        "\n",
        "```markdown\n",
        ">>Two levels of indentation\n",
        "```\n",
        "\n",
        ">>Two levels of indentation\n",
        "\n",
        "---\n",
        "\n",
        "<strong>코드 블록</strong>\n",
        "\n",
        "````\n",
        "```python\n",
        "print(\"a\")\n",
        "```\n",
        "````\n",
        "\n",
        "```python\n",
        "print(\"a\")\n",
        "```\n",
        "\n",
        "---\n",
        "\n",
        "<strong>순서 있는 lists:</strong>\n",
        "```markdown\n",
        "1. One\n",
        "1. Two\n",
        "1. Three\n",
        "```\n",
        "1. One\n",
        "1. Two\n",
        "1. Three\n",
        "\n",
        "---\n",
        "\n",
        "<strong>순서 없는 lists:</strong>\n",
        "```markdown\n",
        "* One\n",
        "* Two\n",
        "* Three\n",
        "```\n",
        "* One\n",
        "* Two\n",
        "* Three\n",
        "\n",
        "---\n",
        "\n",
        "<strong>방정식:</strong>\n",
        "\n",
        "```markdown\n",
        "$y=x^2$\n",
        "\n",
        "$e^{i\\pi} + 1 = 0$\n",
        "\n",
        "$e^x=\\sum_{i=0}^\\infty \\frac{1}{i!}x^i$\n",
        "\n",
        "$\\frac{n!}{k!(n-k)!} = {n \\choose k}$\n",
        "\n",
        "$A_{m,n} =\n",
        " \\begin{pmatrix}\n",
        "  a_{1,1} & a_{1,2} & \\cdots & a_{1,n} \\\\\n",
        "  a_{2,1} & a_{2,2} & \\cdots & a_{2,n} \\\\\n",
        "  \\vdots  & \\vdots  & \\ddots & \\vdots  \\\\\n",
        "  a_{m,1} & a_{m,2} & \\cdots & a_{m,n}\n",
        " \\end{pmatrix}$\n",
        "```\n",
        "\n",
        "$y=x^2$\n",
        "\n",
        "$e^{i\\pi} + 1 = 0$\n",
        "\n",
        "$e^x=\\sum_{i=0}^\\infty \\frac{1}{i!}x^i$\n",
        "\n",
        "$\\frac{n!}{k!(n-k)!} = {n \\choose k}$\n",
        "\n",
        "$A_{m,n} =\n",
        " \\begin{pmatrix}\n",
        "  a_{1,1} & a_{1,2} & \\cdots & a_{1,n} \\\\\n",
        "  a_{2,1} & a_{2,2} & \\cdots & a_{2,n} \\\\\n",
        "  \\vdots  & \\vdots  & \\ddots & \\vdots  \\\\\n",
        "  a_{m,1} & a_{m,2} & \\cdots & a_{m,n}\n",
        " \\end{pmatrix}$\n",
        "\n",
        "\n",
        " ---\n",
        "\n",
        "\u001c<strong>표:</strong>\n",
        "```markdown\n",
        "First column name  | Second column name \n",
        "-------------------|------------------\n",
        "Row 1, Col 1       | Row 1, Col 2 \n",
        "Row 2, Col 1       | Row 2, Col 2 \n",
        "\n",
        "```\n",
        "\n",
        "First column name  | Second column name \n",
        "-------------------|------------------\n",
        "Row 1, Col 1       | Row 1, Col 2 \n",
        "Row 2, Col 1       | Row 2, Col 2 \n",
        "\n",
        "---\n",
        "\n",
        "<strong>수평선:</strong>\n",
        "```markdown\n",
        "---\n",
        "```\n",
        "\n",
        "---\n",
        "\n",
        "\n"
      ],
      "metadata": {
        "id": "Bc9DnrU0xF1t"
      }
    },
    {
      "cell_type": "markdown",
      "source": [
        "# <strong> 내장되어 있지 않은 라이브러리 Import</strong>\n",
        "`!pip install 라이브러리 이름` 명령어로 코랩에 내장되어 있지 않은 라이브러리를 설치할 수 있습니다. 설치한 후  `import 라이브러리 이름` 으로 라이브러리를 불러올 수 있습니다. "
      ],
      "metadata": {
        "id": "MRrsbQgTKiIF"
      }
    },
    {
      "cell_type": "code",
      "source": [
        "!pip install cartopy\n",
        "import cartopy"
      ],
      "metadata": {
        "id": "ZDlbqdrhKr_B",
        "colab": {
          "base_uri": "https://localhost:8080/"
        },
        "outputId": "765854b4-778a-4893-d365-6c92f63b6b1a"
      },
      "execution_count": 10,
      "outputs": [
        {
          "output_type": "stream",
          "name": "stdout",
          "text": [
            "Collecting cartopy\n",
            "  Downloading Cartopy-0.20.2.tar.gz (10.8 MB)\n",
            "\u001b[K     |████████████████████████████████| 10.8 MB 13.5 MB/s \n",
            "\u001b[?25h  Installing build dependencies ... \u001b[?25l\u001b[?25hdone\n",
            "  Getting requirements to build wheel ... \u001b[?25l\u001b[?25herror\n",
            "\u001b[33mWARNING: Discarding https://files.pythonhosted.org/packages/f6/55/1e1c737dc9436b320deead73d1c455ddbb74b8b6992081863492f6f6378a/Cartopy-0.20.2.tar.gz#sha256=4d08c198ecaa50a6a6b109d0f14c070e813defc046a83ac5d7ab494f85599e35 (from https://pypi.org/simple/cartopy/) (requires-python:>=3.7). Command errored out with exit status 1: /usr/bin/python3 /usr/local/lib/python3.7/dist-packages/pip/_vendor/pep517/in_process/_in_process.py get_requires_for_build_wheel /tmp/tmp026tsdfm Check the logs for full command output.\u001b[0m\n",
            "  Downloading Cartopy-0.20.1.tar.gz (10.8 MB)\n",
            "\u001b[K     |████████████████████████████████| 10.8 MB 50.5 MB/s \n",
            "\u001b[?25h  Installing build dependencies ... \u001b[?25l\u001b[?25hdone\n",
            "  Getting requirements to build wheel ... \u001b[?25l\u001b[?25herror\n",
            "\u001b[33mWARNING: Discarding https://files.pythonhosted.org/packages/fc/59/aa52698e3838f4cd0e7eaa75bd86837e9e0b05041dbdaee3cda2fffced06/Cartopy-0.20.1.tar.gz#sha256=91f87b130e2574547a20cd634498df97d797abd12dcfd0235bc0cdbcec8b05e3 (from https://pypi.org/simple/cartopy/) (requires-python:>=3.7). Command errored out with exit status 1: /usr/bin/python3 /usr/local/lib/python3.7/dist-packages/pip/_vendor/pep517/in_process/_in_process.py get_requires_for_build_wheel /tmp/tmp_zmukkd5 Check the logs for full command output.\u001b[0m\n",
            "  Downloading Cartopy-0.20.0.tar.gz (10.8 MB)\n",
            "\u001b[K     |████████████████████████████████| 10.8 MB 59.9 MB/s \n",
            "\u001b[?25h  Installing build dependencies ... \u001b[?25l\u001b[?25hdone\n",
            "  Getting requirements to build wheel ... \u001b[?25l\u001b[?25herror\n",
            "\u001b[33mWARNING: Discarding https://files.pythonhosted.org/packages/0f/c0/58453b036e79046d211f083880d58dcce787e7e07647ac25dc46c6555099/Cartopy-0.20.0.tar.gz#sha256=eae58aff26806e63cf115b2bce9477cedc4aa9f578c5e477b2c25cfa404f2b7a (from https://pypi.org/simple/cartopy/) (requires-python:>=3.7). Command errored out with exit status 1: /usr/bin/python3 /usr/local/lib/python3.7/dist-packages/pip/_vendor/pep517/in_process/_in_process.py get_requires_for_build_wheel /tmp/tmpitd5b8gt Check the logs for full command output.\u001b[0m\n",
            "  Downloading Cartopy-0.19.0.post1.tar.gz (12.1 MB)\n",
            "\u001b[K     |████████████████████████████████| 12.1 MB 64.0 MB/s \n",
            "\u001b[?25h  Installing build dependencies ... \u001b[?25l\u001b[?25hdone\n",
            "  Getting requirements to build wheel ... \u001b[?25l\u001b[?25hdone\n",
            "    Preparing wheel metadata ... \u001b[?25l\u001b[?25hdone\n",
            "Requirement already satisfied: numpy>=1.13.3 in /usr/local/lib/python3.7/dist-packages (from cartopy) (1.21.5)\n",
            "Requirement already satisfied: shapely>=1.5.6 in /usr/local/lib/python3.7/dist-packages (from cartopy) (1.8.1.post1)\n",
            "Collecting pyshp>=2\n",
            "  Downloading pyshp-2.2.0-py3-none-any.whl (44 kB)\n",
            "\u001b[K     |████████████████████████████████| 44 kB 2.4 MB/s \n",
            "\u001b[?25hBuilding wheels for collected packages: cartopy\n",
            "  Building wheel for cartopy (PEP 517) ... \u001b[?25l\u001b[?25hdone\n",
            "  Created wheel for cartopy: filename=Cartopy-0.19.0.post1-cp37-cp37m-linux_x86_64.whl size=12516296 sha256=d11f6ad08dc4da987f4229f1e79fda9957b11a2d3c94d2c4964bd0262514cc5f\n",
            "  Stored in directory: /root/.cache/pip/wheels/98/01/f7/bd10aeb96fe4b518cde5f7c4f5e12c7202f85b7353a5017847\n",
            "Successfully built cartopy\n",
            "Installing collected packages: pyshp, cartopy\n",
            "Successfully installed cartopy-0.19.0.post1 pyshp-2.2.0\n"
          ]
        }
      ]
    },
    {
      "cell_type": "markdown",
      "source": [
        "# <strong> 코랩에서 제공하는 GPU 사용하기 </strong>\n",
        "GPU를 사용하는 방법은 다음과 같습니다.  \n",
        "\n",
        "`런타임 -> 런타임 유형 변경 -> 하드웨어 가속기 -> GPU`"
      ],
      "metadata": {
        "id": "HTsKqldcLw1E"
      }
    },
    {
      "cell_type": "markdown",
      "source": [
        "## <strong>Reference</strong>\n",
        "본 노트북은 아래의 코랩 공식 문서를 한국어로 번역하였습니다.\n",
        "* [Overview of Colaboratory Features](https://colab.research.google.com/#scrollTo=lSrWNr3MuFUS)\n",
        "* [Markdown Guide](https://colab.research.google.com/notebooks/markdown_guide.ipynb)\n",
        "* [Snippets: Importing libraries](https://colab.research.google.com/notebooks/snippets/importing_libraries.ipynb)"
      ],
      "metadata": {
        "id": "73F1q8tXjqPa"
      }
    }
  ]
}